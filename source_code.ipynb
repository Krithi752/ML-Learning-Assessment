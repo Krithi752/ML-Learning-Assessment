{
  "nbformat": 4,
  "nbformat_minor": 0,
  "metadata": {
    "colab": {
      "name": "ml_la.ipynb",
      "provenance": [],
      "collapsed_sections": []
    },
    "kernelspec": {
      "name": "python3",
      "display_name": "Python 3"
    },
    "language_info": {
      "name": "python"
    }
  },
  "cells": [
    {
      "cell_type": "code",
      "source": [
        "import pandas as pd\n",
        "import csv\n",
        "import numpy as np\n",
        "import nltk\n",
        "from sklearn.feature_extraction.text import CountVectorizer\n",
        "from sklearn.feature_extraction.text import TfidfTransformer\n",
        "from sklearn.feature_extraction.text import TfidfVectorizer\n",
        "from sklearn.pipeline import Pipeline\n",
        "import pickle\n",
        "from sklearn.naive_bayes import MultinomialNB\n",
        "from sklearn.linear_model import  LogisticRegression\n",
        "from sklearn import svm\n",
        "from sklearn.model_selection import KFold\n",
        "from sklearn.metrics import confusion_matrix, f1_score, classification_report\n",
        "from sklearn.model_selection import GridSearchCV\n",
        "from sklearn.model_selection import learning_curve\n",
        "import matplotlib.pyplot as plt\n",
        "from sklearn.metrics import precision_recall_curve\n",
        "from sklearn.metrics import average_precision_score\n",
        "import seaborn as sb"
      ],
      "metadata": {
        "id": "xN13TRoiZg7W"
      },
      "execution_count": null,
      "outputs": []
    },
    {
      "cell_type": "code",
      "source": [
        "test_filename = 'test.csv'\n",
        "train_filename = 'train.csv'\n",
        "valid_filename = 'valid.csv'\n",
        "\n",
        "train_news = pd.read_csv(train_filename)\n",
        "test_news = pd.read_csv(test_filename)\n",
        "valid_news = pd.read_csv(valid_filename)"
      ],
      "metadata": {
        "id": "cjrTrbUAZm5V"
      },
      "execution_count": null,
      "outputs": []
    },
    {
      "cell_type": "code",
      "source": [
        "def data_obs():\n",
        "    print(\"training dataset size:\")\n",
        "    print(train_news.shape)\n",
        "    print(train_news.head(10))\n",
        "\n",
        "    print(\"test dataset size:\")\n",
        "    print(test_news.shape)\n",
        "    print(test_news.head(10))\n",
        "    \n",
        "    print(\"validity dataset size:\")\n",
        "    print(valid_news.shape)\n",
        "    print(valid_news.head(10))\n",
        "\n",
        "data_obs()"
      ],
      "metadata": {
        "colab": {
          "base_uri": "https://localhost:8080/"
        },
        "id": "f8DS015664Ej",
        "outputId": "99a18ffa-f3e4-4abe-8a00-a146a7b8125f"
      },
      "execution_count": null,
      "outputs": [
        {
          "output_type": "stream",
          "name": "stdout",
          "text": [
            "training dataset size:\n",
            "(10240, 2)\n",
            "                                           Statement  Label\n",
            "0  Says the Annies List political group supports ...  False\n",
            "1  When did the decline of coal start? It started...   True\n",
            "2  Hillary Clinton agrees with John McCain \"by vo...   True\n",
            "3  Health care reform legislation is likely to ma...  False\n",
            "4  The economic turnaround started at the end of ...   True\n",
            "5  The Chicago Bears have had more starting quart...   True\n",
            "6  Jim Dunnam has not lived in the district he re...  False\n",
            "7  I'm the only person on this stage who has work...   True\n",
            "8  However, it took $19.5 million in Oregon Lotte...   True\n",
            "9  Says GOP primary opponents Glenn Grothman and ...   True\n",
            "test dataset size:\n",
            "(2551, 2)\n",
            "                                           Statement  Label\n",
            "0  Building a wall on the U.S.-Mexico border will...   True\n",
            "1  Wisconsin is on pace to double the number of l...  False\n",
            "2  Says John McCain has done nothing to help the ...  False\n",
            "3  Suzanne Bonamici supports a plan that will cut...   True\n",
            "4  When asked by a reporter whether hes at the ce...  False\n",
            "5  Over the past five years the federal governmen...   True\n",
            "6  Says that Tennessee law requires that schools ...   True\n",
            "7  Says Vice President Joe Biden \"admits that the...  False\n",
            "8  Donald Trump is against marriage equality. He ...   True\n",
            "9  We know that more than half of Hillary Clinton...  False\n",
            "validity dataset size:\n",
            "(2571, 2)\n",
            "                                           Statement  Label\n",
            "0  We have less Americans working now than in the...  FALSE\n",
            "1  When Obama was sworn into office, he DID NOT u...  FALSE\n",
            "2  Says Having organizations parading as being so...  FALSE\n",
            "3     Says nearly half of Oregons children are poor.   TRUE\n",
            "4  On attacks by Republicans that various program...   TRUE\n",
            "5  Says when armed civilians stop mass shootings ...  FALSE\n",
            "6  Says Tennessee is providing millions of dollar...   TRUE\n",
            "7  The health care reform plan would set limits s...  FALSE\n",
            "8  Says Donald Trump started his career back in 1...   TRUE\n",
            "9  Bill White has a long history of trying to lim...   TRUE\n"
          ]
        }
      ]
    },
    {
      "cell_type": "code",
      "source": [
        "def create_distribution(dataFile):\n",
        "    \n",
        "    return sb.countplot(x='Label', data=dataFile, palette='hls')\n",
        "    \n"
      ],
      "metadata": {
        "id": "pibJHGn67Jtq"
      },
      "execution_count": null,
      "outputs": []
    },
    {
      "cell_type": "code",
      "source": [
        "create_distribution(train_news)\n"
      ],
      "metadata": {
        "colab": {
          "base_uri": "https://localhost:8080/",
          "height": 299
        },
        "id": "VVzX8JHb7NgO",
        "outputId": "c59dff38-3e2b-447b-c4b6-900fd3c691cb"
      },
      "execution_count": null,
      "outputs": [
        {
          "output_type": "execute_result",
          "data": {
            "text/plain": [
              "<matplotlib.axes._subplots.AxesSubplot at 0x7f0b3d738f50>"
            ]
          },
          "metadata": {},
          "execution_count": 5
        },
        {
          "output_type": "display_data",
          "data": {
            "image/png": "[encoded data removed]",
            "text/plain": [
              "<Figure size 432x288 with 1 Axes>"
            ]
          },
          "metadata": {
            "needs_background": "light"
          }
        }
      ]
    },
    {
      "cell_type": "code",
      "source": [
        "create_distribution(test_news)"
      ],
      "metadata": {
        "colab": {
          "base_uri": "https://localhost:8080/",
          "height": 296
        },
        "id": "pFGhYggj7PI_",
        "outputId": "5435dfc7-52b4-45d4-9be8-2ea7cebbb53e"
      },
      "execution_count": null,
      "outputs": [
        {
          "output_type": "execute_result",
          "data": {
            "text/plain": [
              "<matplotlib.axes._subplots.AxesSubplot at 0x7f0b3cc7c4d0>"
            ]
          },
          "metadata": {},
          "execution_count": 6
        },
        {
          "output_type": "display_data",
          "data": {
            "image/png": "[encoded data removed]",
            "text/plain": [
              "<Figure size 432x288 with 1 Axes>"
            ]
          },
          "metadata": {
            "needs_background": "light"
          }
        }
      ]
    },
    {
      "cell_type": "code",
      "source": [
        "create_distribution(valid_news)"
      ],
      "metadata": {
        "colab": {
          "base_uri": "https://localhost:8080/",
          "height": 300
        },
        "id": "QyYuwh-57StP",
        "outputId": "6c81575e-55a7-4678-829c-cc58ccd1a17e"
      },
      "execution_count": null,
      "outputs": [
        {
          "output_type": "execute_result",
          "data": {
            "text/plain": [
              "<matplotlib.axes._subplots.AxesSubplot at 0x7f0b3c7a37d0>"
            ]
          },
          "metadata": {},
          "execution_count": 7
        },
        {
          "output_type": "display_data",
          "data": {
            "image/png": "[encoded data removed]",
            "text/plain": [
              "<Figure size 432x288 with 1 Axes>"
            ]
          },
          "metadata": {
            "needs_background": "light"
          }
        }
      ]
    },
    {
      "cell_type": "code",
      "source": [
        "countV = CountVectorizer()\n",
        "train_count = countV.fit_transform(train_news['Statement'].values)\n",
        "\n",
        "print(countV)\n",
        "print(train_count)"
      ],
      "metadata": {
        "colab": {
          "base_uri": "https://localhost:8080/"
        },
        "id": "A9Pg8pFDZ-rR",
        "outputId": "f22e493e-5453-452f-f18a-43969dee5e5c"
      },
      "execution_count": null,
      "outputs": [
        {
          "output_type": "stream",
          "name": "stdout",
          "text": [
            "CountVectorizer()\n",
            "  (0, 9676)\t1\n",
            "  (0, 10988)\t1\n",
            "  (0, 1044)\t1\n",
            "  (0, 6639)\t1\n",
            "  (0, 8376)\t1\n",
            "  (0, 5115)\t1\n",
            "  (0, 10709)\t1\n",
            "  (0, 11036)\t1\n",
            "  (0, 11296)\t1\n",
            "  (0, 615)\t1\n",
            "  (0, 7728)\t1\n",
            "  (0, 3278)\t1\n",
            "  (1, 10988)\t1\n",
            "  (1, 11934)\t2\n",
            "  (1, 3434)\t1\n",
            "  (1, 3185)\t1\n",
            "  (1, 7672)\t1\n",
            "  (1, 2475)\t1\n",
            "  (1, 10425)\t1\n",
            "  (1, 6052)\t1\n",
            "  (1, 10426)\t2\n",
            "  (1, 7418)\t1\n",
            "  (1, 4860)\t1\n",
            "  (1, 11138)\t1\n",
            "  (1, 7674)\t1\n",
            "  :\t:\n",
            "  (10239, 10988)\t1\n",
            "  (10239, 7672)\t2\n",
            "  (10239, 11110)\t2\n",
            "  (10239, 5267)\t1\n",
            "  (10239, 7828)\t1\n",
            "  (10239, 7824)\t1\n",
            "  (10239, 1159)\t1\n",
            "  (10239, 12151)\t2\n",
            "  (10239, 6327)\t1\n",
            "  (10239, 6603)\t1\n",
            "  (10239, 11013)\t1\n",
            "  (10239, 11004)\t1\n",
            "  (10239, 3309)\t1\n",
            "  (10239, 12158)\t1\n",
            "  (10239, 11660)\t2\n",
            "  (10239, 799)\t1\n",
            "  (10239, 2568)\t1\n",
            "  (10239, 11622)\t1\n",
            "  (10239, 2549)\t1\n",
            "  (10239, 10660)\t1\n",
            "  (10239, 8996)\t1\n",
            "  (10239, 10918)\t1\n",
            "  (10239, 3989)\t1\n",
            "  (10239, 10594)\t1\n",
            "  (10239, 6853)\t1\n"
          ]
        }
      ]
    },
    {
      "cell_type": "code",
      "source": [
        "tfidfV = TfidfTransformer()\n",
        "train_tfidf = tfidfV.fit_transform(train_count)\n",
        "\n",
        "tfidf_ngram = TfidfVectorizer(stop_words='english',ngram_range=(1,4),use_idf=True,smooth_idf=True)\n",
        "\n"
      ],
      "metadata": {
        "id": "eevMNDQWcRDO"
      },
      "execution_count": null,
      "outputs": []
    },
    {
      "cell_type": "code",
      "source": [
        "#building classifier using naive bayes \n",
        "nb_pipeline = Pipeline([\n",
        "        ('NBCV',countV),\n",
        "        ('nb_clf',MultinomialNB())])\n",
        "\n",
        "nb_pipeline.fit(train_news['Statement'],train_news['Label'])\n",
        "predicted_nb = nb_pipeline.predict(test_news['Statement'])\n",
        "np.mean(predicted_nb == test_news['Label'])\n"
      ],
      "metadata": {
        "colab": {
          "base_uri": "https://localhost:8080/"
        },
        "id": "NaC__0AEYiep",
        "outputId": "f6235100-aedf-4e66-f5f8-387c857838e6"
      },
      "execution_count": null,
      "outputs": [
        {
          "output_type": "execute_result",
          "data": {
            "text/plain": [
              "0.6072128577028616"
            ]
          },
          "metadata": {},
          "execution_count": 10
        }
      ]
    },
    {
      "cell_type": "code",
      "source": [
        "logR_pipeline = Pipeline([\n",
        "        ('LogRCV',countV),\n",
        "        ('LogR_clf',LogisticRegression(max_iter=250))\n",
        "        ])\n",
        "\n",
        "logR_pipeline.fit(train_news['Statement'],train_news['Label'])\n",
        "predicted_LogR = logR_pipeline.predict(test_news['Statement'])\n",
        "np.mean(predicted_LogR == test_news['Label'])"
      ],
      "metadata": {
        "colab": {
          "base_uri": "https://localhost:8080/"
        },
        "id": "gu0txDOtaYsk",
        "outputId": "c89ad964-07f5-413f-e162-0c6249fb4962"
      },
      "execution_count": null,
      "outputs": [
        {
          "output_type": "execute_result",
          "data": {
            "text/plain": [
              "0.5985887887103096"
            ]
          },
          "metadata": {},
          "execution_count": 11
        }
      ]
    },
    {
      "cell_type": "code",
      "source": [
        "svm_pipeline = Pipeline([\n",
        "        ('svmCV',countV),\n",
        "        ('svm_clf',svm.LinearSVC( max_iter=1000))\n",
        "        ])\n",
        "\n",
        "svm_pipeline.fit(train_news['Statement'],train_news['Label'])\n",
        "predicted_svm = svm_pipeline.predict(test_news['Statement'])\n",
        "np.mean(predicted_svm == test_news['Label'])"
      ],
      "metadata": {
        "colab": {
          "base_uri": "https://localhost:8080/"
        },
        "id": "4QcJbylLa7P9",
        "outputId": "a74edf53-ade9-4c4d-b0e1-d216278c35ea"
      },
      "execution_count": null,
      "outputs": [
        {
          "output_type": "execute_result",
          "data": {
            "text/plain": [
              "0.5723245785966288"
            ]
          },
          "metadata": {},
          "execution_count": 12
        }
      ]
    },
    {
      "cell_type": "code",
      "source": [
        "def build_confusion_matrix(classifier):\n",
        "    \n",
        "    k_fold = KFold(n_splits=5)\n",
        "    scores = []\n",
        "    confusion = np.array([[0,0],[0,0]])\n",
        "\n",
        "    for train_ind, test_ind in k_fold.split(train_news):\n",
        "        train_text = train_news.iloc[train_ind]['Statement'] \n",
        "        train_y = train_news.iloc[train_ind]['Label']\n",
        "    \n",
        "        test_text =train_news.iloc[test_ind]['Statement']\n",
        "        test_y =train_news.iloc[test_ind]['Label']\n",
        "        \n",
        "        classifier.fit(train_text,train_y)\n",
        "        predictions = classifier.predict(test_text)\n",
        "        \n",
        "        confusion += confusion_matrix(test_y,predictions)\n",
        "        score = f1_score(test_y,predictions)\n",
        "        scores.append(score)\n",
        "    \n",
        "    return (print('Total statements classified:', len(train_news)),\n",
        "    print('Score:', sum(scores)/len(scores)),\n",
        "    print('score length', len(scores)),\n",
        "    print('Confusion matrix:'),\n",
        "    print(confusion))"
      ],
      "metadata": {
        "id": "bENjYjbZbH9H"
      },
      "execution_count": null,
      "outputs": []
    },
    {
      "cell_type": "code",
      "source": [
        "def plot_PR_curve(classifier):\n",
        "    \n",
        "    precision, recall, thresholds = precision_recall_curve(test_news['Label'], classifier)\n",
        "    average_precision = average_precision_score(test_news['Label'], classifier)\n",
        "    \n",
        "    plt.step(recall, precision, color='b', alpha=0.2,\n",
        "             where='post')\n",
        "    plt.fill_between(recall, precision, step='post', alpha=0.2,\n",
        "                     color='b')\n",
        "    \n",
        "    plt.xlabel('Recall')\n",
        "    plt.ylabel('Precision')\n",
        "    plt.ylim([0.0, 1.05])\n",
        "    plt.xlim([0.0, 1.0])\n",
        "    plt.title('Average Precision={0:0.2f}'.format(average_precision))\n",
        "    \n"
      ],
      "metadata": {
        "id": "5DILtI9k9yyo"
      },
      "execution_count": null,
      "outputs": []
    },
    {
      "cell_type": "code",
      "source": [
        "plot_PR_curve(predicted_LogR)"
      ],
      "metadata": {
        "colab": {
          "base_uri": "https://localhost:8080/",
          "height": 295
        },
        "id": "EiTpsx1O94JK",
        "outputId": "e3bf8620-519c-4ba4-e9d7-e0d9918b057a"
      },
      "execution_count": null,
      "outputs": [
        {
          "output_type": "display_data",
          "data": {
            "image/png": "[encoded data removed]",
            "text/plain": [
              "<Figure size 432x288 with 1 Axes>"
            ]
          },
          "metadata": {
            "needs_background": "light"
          }
        }
      ]
    },
    {
      "cell_type": "code",
      "source": [
        "plot_PR_curve(predicted_nb)"
      ],
      "metadata": {
        "colab": {
          "base_uri": "https://localhost:8080/",
          "height": 295
        },
        "id": "AfcT1GLW-EPc",
        "outputId": "32c7390f-347a-4616-a7b8-c01fc5022173"
      },
      "execution_count": null,
      "outputs": [
        {
          "output_type": "display_data",
          "data": {
            "image/png": "[encoded data removed]",
            "text/plain": [
              "<Figure size 432x288 with 1 Axes>"
            ]
          },
          "metadata": {
            "needs_background": "light"
          }
        }
      ]
    },
    {
      "cell_type": "code",
      "source": [
        "plot_PR_curve(predicted_svm)"
      ],
      "metadata": {
        "colab": {
          "base_uri": "https://localhost:8080/",
          "height": 295
        },
        "id": "iwdzAxHZ-Dwq",
        "outputId": "561c5226-0dc7-4bf1-83f7-62dd4ebea49f"
      },
      "execution_count": null,
      "outputs": [
        {
          "output_type": "display_data",
          "data": {
            "image/png": "[encoded data removed]",
            "text/plain": [
              "<Figure size 432x288 with 1 Axes>"
            ]
          },
          "metadata": {
            "needs_background": "light"
          }
        }
      ]
    },
    {
      "cell_type": "code",
      "source": [
        "build_confusion_matrix(nb_pipeline)\n"
      ],
      "metadata": {
        "colab": {
          "base_uri": "https://localhost:8080/"
        },
        "id": "cMHSJvCUbYMf",
        "outputId": "504bfe01-a519-4284-f0d8-cf607a5040f1"
      },
      "execution_count": null,
      "outputs": [
        {
          "output_type": "stream",
          "name": "stdout",
          "text": [
            "Total statements classified: 10240\n",
            "Score: 0.66961153965076\n",
            "score length 5\n",
            "Confusion matrix:\n",
            "[[2118 2370]\n",
            " [1664 4088]]\n"
          ]
        },
        {
          "output_type": "execute_result",
          "data": {
            "text/plain": [
              "(None, None, None, None, None)"
            ]
          },
          "metadata": {},
          "execution_count": 18
        }
      ]
    },
    {
      "cell_type": "code",
      "source": [
        "build_confusion_matrix(logR_pipeline)\n"
      ],
      "metadata": {
        "colab": {
          "base_uri": "https://localhost:8080/"
        },
        "id": "hFsLmYoN0DHG",
        "outputId": "c09a6430-66a8-4b6f-99a2-c454c304dab8"
      },
      "execution_count": null,
      "outputs": [
        {
          "output_type": "stream",
          "name": "stdout",
          "text": [
            "Total statements classified: 10240\n",
            "Score: 0.6467945943441228\n",
            "score length 5\n",
            "Confusion matrix:\n",
            "[[2252 2236]\n",
            " [1934 3818]]\n"
          ]
        },
        {
          "output_type": "execute_result",
          "data": {
            "text/plain": [
              "(None, None, None, None, None)"
            ]
          },
          "metadata": {},
          "execution_count": 19
        }
      ]
    },
    {
      "cell_type": "code",
      "source": [
        "build_confusion_matrix(svm_pipeline)"
      ],
      "metadata": {
        "colab": {
          "base_uri": "https://localhost:8080/"
        },
        "id": "UJ46_PcR0E2-",
        "outputId": "763f0c63-36bd-423a-ff19-4c9217472d47"
      },
      "execution_count": null,
      "outputs": [
        {
          "output_type": "stream",
          "name": "stderr",
          "text": [
            "/usr/local/lib/python3.7/dist-packages/sklearn/svm/_base.py:1208: ConvergenceWarning: Liblinear failed to converge, increase the number of iterations.\n",
            "  ConvergenceWarning,\n"
          ]
        },
        {
          "output_type": "stream",
          "name": "stdout",
          "text": [
            "Total statements classified: 10240\n",
            "Score: 0.6104687487924283\n",
            "score length 5\n",
            "Confusion matrix:\n",
            "[[2260 2228]\n",
            " [2246 3506]]\n"
          ]
        },
        {
          "output_type": "stream",
          "name": "stderr",
          "text": [
            "/usr/local/lib/python3.7/dist-packages/sklearn/svm/_base.py:1208: ConvergenceWarning: Liblinear failed to converge, increase the number of iterations.\n",
            "  ConvergenceWarning,\n"
          ]
        },
        {
          "output_type": "execute_result",
          "data": {
            "text/plain": [
              "(None, None, None, None, None)"
            ]
          },
          "metadata": {},
          "execution_count": 20
        }
      ]
    },
    {
      "cell_type": "code",
      "source": [
        "#tfidf_ngram = TfidfVectorizer(stop_words='english',ngram_range=(1,4),use_idf=True,smooth_idf=True)\n",
        "nb_pipeline_ngram = Pipeline([\n",
        "        ('nb_tfidf',tfidf_ngram),\n",
        "        ('nb_clf',MultinomialNB())])\n",
        "\n",
        "nb_pipeline_ngram.fit(train_news['Statement'],train_news['Label'])\n",
        "predicted_nb_ngram = nb_pipeline_ngram.predict(test_news['Statement'])\n",
        "np.mean(predicted_nb_ngram == test_news['Label'])"
      ],
      "metadata": {
        "colab": {
          "base_uri": "https://localhost:8080/"
        },
        "id": "mJ01RVr5b05b",
        "outputId": "9095c7ac-9bac-4664-e449-9d59e9a07665"
      },
      "execution_count": null,
      "outputs": [
        {
          "output_type": "execute_result",
          "data": {
            "text/plain": [
              "0.5938847510780086"
            ]
          },
          "metadata": {},
          "execution_count": 21
        }
      ]
    },
    {
      "cell_type": "code",
      "source": [
        "logR_pipeline_ngram = Pipeline([\n",
        "        ('LogR_tfidf',tfidf_ngram),\n",
        "        ('LogR_clf',LogisticRegression(penalty=\"l2\",C=1))\n",
        "        ])\n",
        "\n",
        "logR_pipeline_ngram.fit(train_news['Statement'],train_news['Label'])\n",
        "predicted_LogR_ngram = logR_pipeline_ngram.predict(test_news['Statement'])\n",
        "np.mean(predicted_LogR_ngram == test_news['Label'])\n"
      ],
      "metadata": {
        "colab": {
          "base_uri": "https://localhost:8080/"
        },
        "id": "6ahPtld7cX7A",
        "outputId": "adc8a0a1-c2cb-41a0-c72a-e49b2cb441ca"
      },
      "execution_count": null,
      "outputs": [
        {
          "output_type": "execute_result",
          "data": {
            "text/plain": [
              "0.6193649549196394"
            ]
          },
          "metadata": {},
          "execution_count": 22
        }
      ]
    },
    {
      "cell_type": "code",
      "source": [
        "svm_pipeline_ngram = Pipeline([\n",
        "        ('svm_tfidf',tfidf_ngram),\n",
        "        ('svm_clf',svm.LinearSVC())\n",
        "        ])\n",
        "\n",
        "svm_pipeline_ngram.fit(train_news['Statement'],train_news['Label'])\n",
        "predicted_svm_ngram = svm_pipeline_ngram.predict(test_news['Statement'])\n",
        "np.mean(predicted_svm_ngram == test_news['Label'])"
      ],
      "metadata": {
        "colab": {
          "base_uri": "https://localhost:8080/"
        },
        "id": "r9FIAjCOckZL",
        "outputId": "df8af0c3-3c34-4e23-9393-2aa148c87028"
      },
      "execution_count": null,
      "outputs": [
        {
          "output_type": "execute_result",
          "data": {
            "text/plain": [
              "0.6170129361034888"
            ]
          },
          "metadata": {},
          "execution_count": 23
        }
      ]
    },
    {
      "cell_type": "code",
      "source": [
        "build_confusion_matrix(nb_pipeline_ngram)\n",
        "build_confusion_matrix(logR_pipeline_ngram)\n",
        "build_confusion_matrix(svm_pipeline_ngram)"
      ],
      "metadata": {
        "colab": {
          "base_uri": "https://localhost:8080/"
        },
        "id": "KzZwysW6crPq",
        "outputId": "aec21b54-a6f9-4e28-d72d-3a379dd55cf5"
      },
      "execution_count": null,
      "outputs": [
        {
          "output_type": "stream",
          "name": "stdout",
          "text": [
            "Total statements classified: 10240\n",
            "Score: 0.7224053159841455\n",
            "score length 5\n",
            "Confusion matrix:\n",
            "[[ 758 3730]\n",
            " [ 390 5362]]\n",
            "Total statements classified: 10240\n",
            "Score: 0.7044355553757985\n",
            "score length 5\n",
            "Confusion matrix:\n",
            "[[1580 2908]\n",
            " [1043 4709]]\n",
            "Total statements classified: 10240\n",
            "Score: 0.6790920142902143\n",
            "score length 5\n",
            "Confusion matrix:\n",
            "[[2016 2472]\n",
            " [1524 4228]]\n"
          ]
        },
        {
          "output_type": "execute_result",
          "data": {
            "text/plain": [
              "(None, None, None, None, None)"
            ]
          },
          "metadata": {},
          "execution_count": 24
        }
      ]
    },
    {
      "cell_type": "code",
      "source": [
        "plot_PR_curve(predicted_svm_ngram)"
      ],
      "metadata": {
        "colab": {
          "base_uri": "https://localhost:8080/",
          "height": 295
        },
        "id": "Ad9oqVINQLeo",
        "outputId": "630627d6-946e-4ed5-e4bc-205da25d7175"
      },
      "execution_count": null,
      "outputs": [
        {
          "output_type": "display_data",
          "data": {
            "image/png": "[encoded data removed]",
            "text/plain": [
              "<Figure size 432x288 with 1 Axes>"
            ]
          },
          "metadata": {
            "needs_background": "light"
          }
        }
      ]
    },
    {
      "cell_type": "code",
      "source": [
        "plot_PR_curve(predicted_LogR_ngram)"
      ],
      "metadata": {
        "colab": {
          "base_uri": "https://localhost:8080/",
          "height": 295
        },
        "id": "pDSrWzYBQO2S",
        "outputId": "71fd73a7-6915-44f0-a164-5eb0d9e26ca0"
      },
      "execution_count": null,
      "outputs": [
        {
          "output_type": "display_data",
          "data": {
            "image/png": "[encoded data removed]",
            "text/plain": [
              "<Figure size 432x288 with 1 Axes>"
            ]
          },
          "metadata": {
            "needs_background": "light"
          }
        }
      ]
    },
    {
      "cell_type": "code",
      "source": [
        "plot_PR_curve(predicted_nb_ngram)"
      ],
      "metadata": {
        "colab": {
          "base_uri": "https://localhost:8080/",
          "height": 295
        },
        "id": "6sixecQmQThH",
        "outputId": "67f369bb-3ec8-4a51-dd88-28176c317731"
      },
      "execution_count": null,
      "outputs": [
        {
          "output_type": "display_data",
          "data": {
            "image/png": "[encoded data removed]",
            "text/plain": [
              "<Figure size 432x288 with 1 Axes>"
            ]
          },
          "metadata": {
            "needs_background": "light"
          }
        }
      ]
    },
    {
      "cell_type": "code",
      "source": [
        "print(classification_report(test_news['Label'], predicted_nb_ngram))\n",
        "print(classification_report(test_news['Label'], predicted_LogR_ngram))\n",
        "print(classification_report(test_news['Label'], predicted_svm_ngram))"
      ],
      "metadata": {
        "colab": {
          "base_uri": "https://localhost:8080/"
        },
        "id": "8gIOORqYc4DF",
        "outputId": "d3c6c0a1-95e0-4250-aced-67c75b21bdcb"
      },
      "execution_count": null,
      "outputs": [
        {
          "output_type": "stream",
          "name": "stdout",
          "text": [
            "              precision    recall  f1-score   support\n",
            "\n",
            "       False       0.72      0.19      0.30      1169\n",
            "        True       0.58      0.94      0.71      1382\n",
            "\n",
            "    accuracy                           0.59      2551\n",
            "   macro avg       0.65      0.56      0.51      2551\n",
            "weighted avg       0.64      0.59      0.52      2551\n",
            "\n",
            "              precision    recall  f1-score   support\n",
            "\n",
            "       False       0.64      0.39      0.49      1169\n",
            "        True       0.61      0.81      0.70      1382\n",
            "\n",
            "    accuracy                           0.62      2551\n",
            "   macro avg       0.62      0.60      0.59      2551\n",
            "weighted avg       0.62      0.62      0.60      2551\n",
            "\n",
            "              precision    recall  f1-score   support\n",
            "\n",
            "       False       0.61      0.47      0.53      1169\n",
            "        True       0.62      0.74      0.68      1382\n",
            "\n",
            "    accuracy                           0.62      2551\n",
            "   macro avg       0.61      0.61      0.60      2551\n",
            "weighted avg       0.62      0.62      0.61      2551\n",
            "\n"
          ]
        }
      ]
    },
    {
      "cell_type": "code",
      "source": [
        "parameters = {'LogR_tfidf__ngram_range': [(1, 1), (1, 2),(1,3),(1,4),(1,5)],\n",
        "               'LogR_tfidf__use_idf': (True, False),\n",
        "               'LogR_tfidf__smooth_idf': (True, False)\n",
        "}\n",
        "\n",
        "gs_clf = GridSearchCV(logR_pipeline_ngram, parameters, n_jobs=-1)\n",
        "gs_clf = gs_clf.fit(train_news['Statement'][:10000],train_news['Label'][:10000])\n",
        "\n"
      ],
      "metadata": {
        "id": "5wisr-jzdJ9o"
      },
      "execution_count": null,
      "outputs": []
    },
    {
      "cell_type": "code",
      "source": [
        "gs_clf.best_score_\n"
      ],
      "metadata": {
        "colab": {
          "base_uri": "https://localhost:8080/"
        },
        "id": "GFhl17eMh9YP",
        "outputId": "45c9f853-9a6c-4db6-bb40-fe28c4b4a7ef"
      },
      "execution_count": null,
      "outputs": [
        {
          "output_type": "execute_result",
          "data": {
            "text/plain": [
              "0.6165"
            ]
          },
          "metadata": {},
          "execution_count": 30
        }
      ]
    },
    {
      "cell_type": "code",
      "source": [
        "\n",
        "gs_clf.best_params_\n"
      ],
      "metadata": {
        "colab": {
          "base_uri": "https://localhost:8080/"
        },
        "id": "H2SB4HMrh_bM",
        "outputId": "095bffba-0dec-4c8d-fb73-0e217019ab40"
      },
      "execution_count": null,
      "outputs": [
        {
          "output_type": "execute_result",
          "data": {
            "text/plain": [
              "{'LogR_tfidf__ngram_range': (1, 4),\n",
              " 'LogR_tfidf__smooth_idf': True,\n",
              " 'LogR_tfidf__use_idf': True}"
            ]
          },
          "metadata": {},
          "execution_count": 31
        }
      ]
    },
    {
      "cell_type": "code",
      "source": [
        "gs_clf.cv_results_"
      ],
      "metadata": {
        "colab": {
          "base_uri": "https://localhost:8080/"
        },
        "id": "FuafMt3JiCs1",
        "outputId": "4fc8fc3a-a507-49db-dc7e-02f80cabaadf"
      },
      "execution_count": null,
      "outputs": [
        {
          "output_type": "execute_result",
          "data": {
            "text/plain": [
              "{'mean_fit_time': array([0.61847506, 0.49662623, 0.5901165 , 0.503793  , 1.77654834,\n",
              "        1.86768451, 1.64319696, 1.76870332, 2.64070363, 3.11479988,\n",
              "        2.42740912, 3.27746234, 3.09306693, 3.91978703, 3.20275593,\n",
              "        3.87740855, 3.90503783, 4.64575329, 4.26033726, 4.47180543]),\n",
              " 'mean_score_time': array([0.05963554, 0.06044612, 0.06171784, 0.05774488, 0.10004854,\n",
              "        0.09479866, 0.10217938, 0.08903894, 0.11722159, 0.11979194,\n",
              "        0.127987  , 0.12435923, 0.15018864, 0.14952083, 0.15109501,\n",
              "        0.14733233, 0.17900062, 0.16787696, 0.17187896, 0.15623813]),\n",
              " 'mean_test_score': array([0.6046, 0.6106, 0.6055, 0.6106, 0.6142, 0.6105, 0.614 , 0.6105,\n",
              "        0.6149, 0.6103, 0.6162, 0.6103, 0.6165, 0.6097, 0.6159, 0.6097,\n",
              "        0.616 , 0.6093, 0.6151, 0.6093]),\n",
              " 'param_LogR_tfidf__ngram_range': masked_array(data=[(1, 1), (1, 1), (1, 1), (1, 1), (1, 2), (1, 2), (1, 2),\n",
              "                    (1, 2), (1, 3), (1, 3), (1, 3), (1, 3), (1, 4), (1, 4),\n",
              "                    (1, 4), (1, 4), (1, 5), (1, 5), (1, 5), (1, 5)],\n",
              "              mask=[False, False, False, False, False, False, False, False,\n",
              "                    False, False, False, False, False, False, False, False,\n",
              "                    False, False, False, False],\n",
              "        fill_value='?',\n",
              "             dtype=object),\n",
              " 'param_LogR_tfidf__smooth_idf': masked_array(data=[True, True, False, False, True, True, False, False,\n",
              "                    True, True, False, False, True, True, False, False,\n",
              "                    True, True, False, False],\n",
              "              mask=[False, False, False, False, False, False, False, False,\n",
              "                    False, False, False, False, False, False, False, False,\n",
              "                    False, False, False, False],\n",
              "        fill_value='?',\n",
              "             dtype=object),\n",
              " 'param_LogR_tfidf__use_idf': masked_array(data=[True, False, True, False, True, False, True, False,\n",
              "                    True, False, True, False, True, False, True, False,\n",
              "                    True, False, True, False],\n",
              "              mask=[False, False, False, False, False, False, False, False,\n",
              "                    False, False, False, False, False, False, False, False,\n",
              "                    False, False, False, False],\n",
              "        fill_value='?',\n",
              "             dtype=object),\n",
              " 'params': [{'LogR_tfidf__ngram_range': (1, 1),\n",
              "   'LogR_tfidf__smooth_idf': True,\n",
              "   'LogR_tfidf__use_idf': True},\n",
              "  {'LogR_tfidf__ngram_range': (1, 1),\n",
              "   'LogR_tfidf__smooth_idf': True,\n",
              "   'LogR_tfidf__use_idf': False},\n",
              "  {'LogR_tfidf__ngram_range': (1, 1),\n",
              "   'LogR_tfidf__smooth_idf': False,\n",
              "   'LogR_tfidf__use_idf': True},\n",
              "  {'LogR_tfidf__ngram_range': (1, 1),\n",
              "   'LogR_tfidf__smooth_idf': False,\n",
              "   'LogR_tfidf__use_idf': False},\n",
              "  {'LogR_tfidf__ngram_range': (1, 2),\n",
              "   'LogR_tfidf__smooth_idf': True,\n",
              "   'LogR_tfidf__use_idf': True},\n",
              "  {'LogR_tfidf__ngram_range': (1, 2),\n",
              "   'LogR_tfidf__smooth_idf': True,\n",
              "   'LogR_tfidf__use_idf': False},\n",
              "  {'LogR_tfidf__ngram_range': (1, 2),\n",
              "   'LogR_tfidf__smooth_idf': False,\n",
              "   'LogR_tfidf__use_idf': True},\n",
              "  {'LogR_tfidf__ngram_range': (1, 2),\n",
              "   'LogR_tfidf__smooth_idf': False,\n",
              "   'LogR_tfidf__use_idf': False},\n",
              "  {'LogR_tfidf__ngram_range': (1, 3),\n",
              "   'LogR_tfidf__smooth_idf': True,\n",
              "   'LogR_tfidf__use_idf': True},\n",
              "  {'LogR_tfidf__ngram_range': (1, 3),\n",
              "   'LogR_tfidf__smooth_idf': True,\n",
              "   'LogR_tfidf__use_idf': False},\n",
              "  {'LogR_tfidf__ngram_range': (1, 3),\n",
              "   'LogR_tfidf__smooth_idf': False,\n",
              "   'LogR_tfidf__use_idf': True},\n",
              "  {'LogR_tfidf__ngram_range': (1, 3),\n",
              "   'LogR_tfidf__smooth_idf': False,\n",
              "   'LogR_tfidf__use_idf': False},\n",
              "  {'LogR_tfidf__ngram_range': (1, 4),\n",
              "   'LogR_tfidf__smooth_idf': True,\n",
              "   'LogR_tfidf__use_idf': True},\n",
              "  {'LogR_tfidf__ngram_range': (1, 4),\n",
              "   'LogR_tfidf__smooth_idf': True,\n",
              "   'LogR_tfidf__use_idf': False},\n",
              "  {'LogR_tfidf__ngram_range': (1, 4),\n",
              "   'LogR_tfidf__smooth_idf': False,\n",
              "   'LogR_tfidf__use_idf': True},\n",
              "  {'LogR_tfidf__ngram_range': (1, 4),\n",
              "   'LogR_tfidf__smooth_idf': False,\n",
              "   'LogR_tfidf__use_idf': False},\n",
              "  {'LogR_tfidf__ngram_range': (1, 5),\n",
              "   'LogR_tfidf__smooth_idf': True,\n",
              "   'LogR_tfidf__use_idf': True},\n",
              "  {'LogR_tfidf__ngram_range': (1, 5),\n",
              "   'LogR_tfidf__smooth_idf': True,\n",
              "   'LogR_tfidf__use_idf': False},\n",
              "  {'LogR_tfidf__ngram_range': (1, 5),\n",
              "   'LogR_tfidf__smooth_idf': False,\n",
              "   'LogR_tfidf__use_idf': True},\n",
              "  {'LogR_tfidf__ngram_range': (1, 5),\n",
              "   'LogR_tfidf__smooth_idf': False,\n",
              "   'LogR_tfidf__use_idf': False}],\n",
              " 'rank_test_score': array([20,  9, 19,  9,  7, 11,  8, 11,  6, 13,  2, 13,  1, 15,  4, 15,  3,\n",
              "        17,  5, 17], dtype=int32),\n",
              " 'split0_test_score': array([0.6135, 0.617 , 0.6125, 0.617 , 0.619 , 0.617 , 0.6175, 0.617 ,\n",
              "        0.6205, 0.6175, 0.621 , 0.6175, 0.6175, 0.6155, 0.6175, 0.6155,\n",
              "        0.614 , 0.615 , 0.6115, 0.615 ]),\n",
              " 'split1_test_score': array([0.618 , 0.6205, 0.6185, 0.6205, 0.6245, 0.623 , 0.625 , 0.623 ,\n",
              "        0.6245, 0.6165, 0.624 , 0.6165, 0.623 , 0.613 , 0.6205, 0.613 ,\n",
              "        0.622 , 0.6135, 0.619 , 0.6135]),\n",
              " 'split2_test_score': array([0.5945, 0.603 , 0.596 , 0.603 , 0.6025, 0.6015, 0.605 , 0.6015,\n",
              "        0.604 , 0.6045, 0.608 , 0.6045, 0.609 , 0.603 , 0.607 , 0.603 ,\n",
              "        0.6065, 0.601 , 0.609 , 0.601 ]),\n",
              " 'split3_test_score': array([0.599 , 0.608 , 0.5995, 0.608 , 0.6105, 0.605 , 0.6105, 0.605 ,\n",
              "        0.6125, 0.606 , 0.615 , 0.606 , 0.617 , 0.611 , 0.616 , 0.611 ,\n",
              "        0.621 , 0.6115, 0.618 , 0.6115]),\n",
              " 'split4_test_score': array([0.598 , 0.6045, 0.601 , 0.6045, 0.6145, 0.606 , 0.612 , 0.606 ,\n",
              "        0.613 , 0.607 , 0.613 , 0.607 , 0.616 , 0.606 , 0.6185, 0.606 ,\n",
              "        0.6165, 0.6055, 0.618 , 0.6055]),\n",
              " 'std_fit_time': array([0.03007905, 0.01882531, 0.02378952, 0.02470442, 0.04612343,\n",
              "        0.0239678 , 0.10571633, 0.06727467, 0.21975654, 0.1134698 ,\n",
              "        0.0732266 , 0.10147517, 0.08592696, 0.18257523, 0.16035872,\n",
              "        0.19260893, 0.31590698, 0.28723656, 0.11655559, 0.70823142]),\n",
              " 'std_score_time': array([0.00523492, 0.00354507, 0.00224775, 0.00097217, 0.00210589,\n",
              "        0.00102856, 0.00735635, 0.00974792, 0.01131875, 0.01130905,\n",
              "        0.00172196, 0.00786684, 0.00317679, 0.00861793, 0.00285885,\n",
              "        0.00280862, 0.01556806, 0.01141433, 0.00142517, 0.03387509]),\n",
              " 'std_test_score': array([0.00933488, 0.0069383 , 0.00853815, 0.0069383 , 0.00748064,\n",
              "        0.00812404, 0.0067897 , 0.00812404, 0.00709507, 0.00553715,\n",
              "        0.00570614, 0.00553715, 0.00447214, 0.00457821, 0.00468402,\n",
              "        0.00457821, 0.00557674, 0.00525928, 0.00405463, 0.00525928])}"
            ]
          },
          "metadata": {},
          "execution_count": 32
        }
      ]
    },
    {
      "cell_type": "code",
      "source": [
        "logR_pipeline_final = Pipeline([\n",
        "        ('LogR_tfidf',TfidfVectorizer(stop_words='english',ngram_range=(1,4),use_idf=True,smooth_idf=False)),\n",
        "        ('LogR_clf',LogisticRegression(penalty=\"l2\",C=1))\n",
        "        ])\n",
        "\n",
        "logR_pipeline_final.fit(train_news['Statement'],train_news['Label'])\n",
        "predicted_LogR_final = logR_pipeline_final.predict(test_news['Statement'])\n",
        "np.mean(predicted_LogR_final == test_news['Label'])\n",
        "print(classification_report(test_news['Label'], predicted_LogR_final))\n",
        "\n"
      ],
      "metadata": {
        "colab": {
          "base_uri": "https://localhost:8080/"
        },
        "id": "4Ry0hB1eig7S",
        "outputId": "9d31be1a-92d1-4327-fae7-ec3de5dcbd41"
      },
      "execution_count": null,
      "outputs": [
        {
          "output_type": "stream",
          "name": "stdout",
          "text": [
            "              precision    recall  f1-score   support\n",
            "\n",
            "       False       0.63      0.38      0.48      1169\n",
            "        True       0.61      0.81      0.70      1382\n",
            "\n",
            "    accuracy                           0.62      2551\n",
            "   macro avg       0.62      0.60      0.59      2551\n",
            "weighted avg       0.62      0.62      0.60      2551\n",
            "\n"
          ]
        }
      ]
    },
    {
      "cell_type": "code",
      "source": [
        "model_file = 'final_model.sav'\n",
        "pickle.dump(logR_pipeline_ngram,open(model_file,'wb'))"
      ],
      "metadata": {
        "id": "YOcvjuLKjRl9"
      },
      "execution_count": null,
      "outputs": []
    },
    {
      "cell_type": "code",
      "source": [
        "def show_most_informative_features(model, vect, clf, text=None, n=50):\n",
        "    # Extract the vectorizer and the classifier from the pipeline\n",
        "    vectorizer = model.named_steps[vect]\n",
        "    classifier = model.named_steps[clf]\n",
        "\n",
        "     # Check to make sure that we can perform this computation\n",
        "    if not hasattr(classifier, 'coef_'):\n",
        "        raise TypeError(\n",
        "            \"Cannot compute most informative features on {}.\".format(\n",
        "                classifier.__class__.__name__\n",
        "            )\n",
        "        )\n",
        "            \n",
        "    if text is not None:\n",
        "        # Compute the coefficients for the text\n",
        "        tvec = model.transform([text]).toarray()\n",
        "    else:\n",
        "        # Otherwise simply use the coefficients\n",
        "        tvec = classifier.coef_\n",
        "\n",
        "    # Zip the feature names with the coefs and sort\n",
        "    coefs = sorted(\n",
        "        zip(tvec[0], vectorizer.get_feature_names()),\n",
        "        reverse=True\n",
        "    )\n",
        "    \n",
        "    # Get the top n and bottom n coef, name pairs\n",
        "    topn  = zip(coefs[:n], coefs[:-(n+1):-1])\n",
        "\n",
        "    # Create the output string to return\n",
        "    output = []\n",
        "\n",
        "    # If text, add the predicted value to the output.\n",
        "    if text is not None:\n",
        "        output.append(\"\\\"{}\\\"\".format(text))\n",
        "        output.append(\n",
        "            \"Classified as: {}\".format(model.predict([text]))\n",
        "        )\n",
        "        output.append(\"\")\n",
        "\n",
        "    # Create two columns with most negative and most positive features.\n",
        "    for (cp, fnp), (cn, fnn) in topn:\n",
        "        output.append(\n",
        "            \"{:0.4f}{: >15}    {:0.4f}{: >15}\".format(\n",
        "                cp, fnp, cn, fnn\n",
        "            )\n",
        "        )\n",
        "    #return \"\\n\".join(output)\n",
        "    print(output)\n"
      ],
      "metadata": {
        "id": "d8WkKh6-yWLS"
      },
      "execution_count": null,
      "outputs": []
    },
    {
      "cell_type": "code",
      "source": [
        "show_most_informative_features(logR_pipeline_ngram,vect='LogR_tfidf',clf='LogR_clf')\n"
      ],
      "metadata": {
        "colab": {
          "base_uri": "https://localhost:8080/"
        },
        "id": "_xPu7ZJXyrup",
        "outputId": "32e794ed-5071-40a6-e04f-2255c9ee8a3b"
      },
      "execution_count": null,
      "outputs": [
        {
          "output_type": "stream",
          "name": "stderr",
          "text": [
            "/usr/local/lib/python3.7/dist-packages/sklearn/utils/deprecation.py:87: FutureWarning: Function get_feature_names is deprecated; get_feature_names is deprecated in 1.0 and will be removed in 1.2. Please use get_feature_names_out instead.\n",
            "  warnings.warn(msg, category=FutureWarning)\n"
          ]
        },
        {
          "output_type": "stream",
          "name": "stdout",
          "text": [
            "['2.8908        percent    -1.7942      obamacare', '1.7637        average    -1.6300           says', '1.6477          times    -1.4106          obama', '1.5998            day    -1.3994           plan', '1.4585        million    -1.2839            rep', '1.4521        georgia    -1.2085      wisconsin', '1.4321      countries    -1.1150           care', '1.4306           debt    -1.0474   scott walker', '1.4227        country    -1.0360         walker', '1.3848        highest    -1.0130       increase', '1.3639       american    -0.9904       medicare', '1.3051           half    -0.9826        clinton', '1.2677            000    -0.9775          scott', '1.1009         states    -0.9539     government', '1.0707         months    -0.9498          going', '0.9916         lowest    -0.9253         obamas', '0.9890             10    -0.9121           away', '0.9856       actually    -0.8947      president', '0.9699         nearly    -0.8871          group', '0.9656          years    -0.8835        illegal', '0.9537           rate    -0.8566       care law', '0.9523           year    -0.8342       security', '0.9176      education    -0.8095health care law', '0.8783         cities    -0.7975         social', '0.8726            cut    -0.7622           isis', '0.8451         income    -0.7517          china', '0.8428        poverty    -0.7511    health care', '0.8349         decade    -0.7506       stimulus', '0.8321          worst    -0.7377          white', '0.8090        florida    -0.7340social security', '0.7991     republican    -0.7225         barack', '0.7859       spending    -0.7218    500 billion', '0.7839        deficit    -0.7043         gotten', '0.7790         checks    -0.7014       supports', '0.7479        decades    -0.6995            say', '0.7451          terms    -0.6853           team', '0.7425       majority    -0.6827says barack obama', '0.7391         county    -0.6806          didnt', '0.7256          rates    -0.6786   barack obama', '0.7197         school    -0.6761       deciding', '0.7189             80    -0.6755       vacation', '0.7182       trillion    -0.6724      democrats', '0.7160      americans    -0.6647        reserve', '0.7142     graduation    -0.6444       says rep', '0.7084        torture    -0.6427           real', '0.6996         mccain    -0.6385          raise', '0.6915          lower    -0.6350      gov scott', '0.6785           ohio    -0.6323       bankrupt', '0.6762          crime    -0.6246            run', '0.6758           does    -0.6244gov scott walker']\n"
          ]
        }
      ]
    },
    {
      "cell_type": "code",
      "source": [
        "show_most_informative_features(nb_pipeline_ngram,vect='nb_tfidf',clf='nb_clf')\n"
      ],
      "metadata": {
        "colab": {
          "base_uri": "https://localhost:8080/"
        },
        "id": "r9E0HeI4ytws",
        "outputId": "589ad70e-64a2-4865-9984-980b19862c32"
      },
      "execution_count": null,
      "outputs": [
        {
          "output_type": "stream",
          "name": "stderr",
          "text": [
            "/usr/local/lib/python3.7/dist-packages/sklearn/utils/deprecation.py:103: FutureWarning: Attribute `coef_` was deprecated in version 0.24 and will be removed in 1.1 (renaming of 0.26).\n",
            "  warnings.warn(msg, category=FutureWarning)\n",
            "/usr/local/lib/python3.7/dist-packages/sklearn/utils/deprecation.py:87: FutureWarning: Function get_feature_names is deprecated; get_feature_names is deprecated in 1.0 and will be removed in 1.2. Please use get_feature_names_out instead.\n",
            "  warnings.warn(msg, category=FutureWarning)\n"
          ]
        },
        {
          "output_type": "stream",
          "name": "stdout",
          "text": [
            "['-8.3592           says    -12.2914             00', '-8.4905        percent    -12.2914        00 2014', '-8.9000          state    -12.291400 2014 provisions', '-8.9871            000    -12.291400 2014 provisions incorporated', '-9.0369          years    -12.2914   000 000 send', '-9.0583           year    -12.2914000 000 send community', '-9.0788         states    -12.2914000 000 support', '-9.1049            tax    -12.2914000 000 support supreme', '-9.1206        million    -12.2914         000 10', '-9.1603         people    -12.2914     000 10 000', '-9.1698          obama    -12.2914000 10 000 refugees', '-9.2866           jobs    -12.2914     000 20 000', '-9.3095         health    -12.2914000 20 000 infrastructural', '-9.3195      president    -12.2914000 20 000 jobs', '-9.3506        country    -12.2914         000 25', '-9.3991          texas    -12.2914     000 25 000', '-9.3995            new    -12.2914000 25 000 federal', '-9.4850          taxes    -12.2914  000 40 000 50', '-9.4946           rate    -12.2914        000 400', '-9.4967        billion    -12.2914    000 400 000', '-9.5052           care    -12.2914000 400 000 military', '-9.5482         united    -12.2914000 50 000 year', '-9.5514  united states    -12.2914        000 500', '-9.5630        federal    -12.2914 000 500 severe', '-9.5893         budget    -12.2914000 500 severe vaccine', '-9.5935           said    -12.2914         000 97', '-9.6169             10    -12.2914     000 97 000', '-9.6369      americans    -12.2914000 97 000 just', '-9.6476       american    -12.2914    000 african', '-9.6539          voted    -12.2914000 african americans', '-9.6548           debt    -12.2914000 african americans andwas', '-9.6742            cut    -12.2914    000 applied', '-9.6810           time    -12.2914000 applied equally', '-9.6853            pay    -12.2914000 applied equally granted', '-9.6932    health care    -12.2914     000 babies', '-9.7212     government    -12.2914000 babies born', '-9.7233        average    -12.2914000 babies born deformed', '-9.7366        highest    -12.2914000 barrels day', '-9.7589            law    -12.2914000 barrels day able', '-9.7677     republican    -12.2914000 barrels oil day', '-9.7828          money    -12.2914       000 beef', '-9.7909        florida    -12.2914000 beef cattle', '-9.7958         barack    -12.2914000 beef cattle operations', '-9.8086       spending    -12.2914    000 buddies', '-9.8254          times    -12.2914000 buddies apartment', '-9.8296           just    -12.2914000 buddies apartment buildings', '-9.8404         senate    -12.2914 000 businesses', '-9.8451            day    -12.2914000 businesses created', '-9.8497          world    -12.2914000 businesses created scott', '-9.8549         school    -12.2914       000 caps']\n"
          ]
        }
      ]
    },
    {
      "cell_type": "code",
      "source": [
        "show_most_informative_features(svm_pipeline_ngram,vect='svm_tfidf',clf='svm_clf')\n"
      ],
      "metadata": {
        "colab": {
          "base_uri": "https://localhost:8080/"
        },
        "id": "fNZHRRQkyvz0",
        "outputId": "f40d3a06-71dc-4926-ab4c-4a8c958fff66"
      },
      "execution_count": null,
      "outputs": [
        {
          "output_type": "stream",
          "name": "stderr",
          "text": [
            "/usr/local/lib/python3.7/dist-packages/sklearn/utils/deprecation.py:87: FutureWarning: Function get_feature_names is deprecated; get_feature_names is deprecated in 1.0 and will be removed in 1.2. Please use get_feature_names_out instead.\n",
            "  warnings.warn(msg, category=FutureWarning)\n"
          ]
        },
        {
          "output_type": "stream",
          "name": "stdout",
          "text": [
            "['1.8707        percent    -1.4757      obamacare', '1.6936      countries    -1.2105            rep', '1.6539        average    -1.1936           plan', '1.6317            day    -1.1096          group', '1.6210          times    -1.1001          obama', '1.5165        georgia    -1.0898           says', '1.2959       american    -1.0880           away', '1.2499           half    -1.0773      wisconsin', '1.2222           debt    -1.0312         gotten', '1.1749         months    -0.9794           isis', '1.1689        million    -0.9710       war iraq', '1.1270        country    -0.9663       increase', '1.0838            000    -0.9563        illegal', '1.0822       actually    -0.9513    500 billion', '1.0279        highest    -0.9330          china', '1.0227         cities    -0.9257       vacation', '0.9875          terms    -0.9149           real', '0.9781        decades    -0.8944   scott walker', '0.9575          worst    -0.8813           team', '0.9428   percent time    -0.8521     government', '0.9072         lowest    -0.8493          going', '0.9017     says scott    -0.8411          fight', '0.8889         decade    -0.8411        clinton', '0.8838         checks    -0.8386         walker', '0.8556   corporations    -0.8283         obamas', '0.8526        opposed    -0.8186           idea', '0.8485            cut    -0.8132       bankrupt', '0.8431       expanded    -0.8120      cicilline', '0.8422             ve    -0.8050            tom', '0.8400         nearly    -0.8010       deciding', '0.8395            row    -0.7970       medicare', '0.8340          worth    -0.7966   end medicare', '0.8314          lower    -0.7944       care law', '0.8312        deficit    -0.7871        reserve', '0.8286     republican    -0.7820     christians', '0.8239            won    -0.7785         muslim', '0.8232         thirds    -0.7783          price', '0.8218             80    -0.7757          white', '0.8168        poverty    -0.7723       supports', '0.8144majority americans    -0.7698       released', '0.8035           save    -0.7657        selling', '0.7999       shutdown    -0.7653            say', '0.7987         spends    -0.7639      jobs lost', '0.7968           does    -0.7615    voter fraud', '0.7944abortion rights    -0.7557  said drilling', '0.7915          grown    -0.7473          taxed', '0.7903        torture    -0.7472           seat', '0.7889       majority    -0.7442health care law', '0.7875        minutes    -0.7432  redistricting', '0.7853         county    -0.7388        cabinet']\n"
          ]
        }
      ]
    },
    {
      "cell_type": "code",
      "source": [
        "var = input(\"Please enter the news text you want to verify: \")\n",
        "print(\"You entered: \" + str(var))"
      ],
      "metadata": {
        "id": "j3_orY9Ay6so"
      },
      "execution_count": null,
      "outputs": []
    },
    {
      "cell_type": "code",
      "source": [
        "def detecting_fake_news(var):    \n",
        "#retrieving the best model for prediction call\n",
        "    load_model = pickle.load(open('final_model.sav', 'rb'))\n",
        "    prediction = load_model.predict([var])\n",
        "    prob = load_model.predict_proba([var])\n",
        "\n",
        "    return (print(\"The given statement is \",prediction[0]),\n",
        "        print(\"The truth probability score is \",prob[0][1]))\n",
        "\n",
        "\n"
      ],
      "metadata": {
        "id": "Trpu-MBVy_N-"
      },
      "execution_count": null,
      "outputs": []
    },
    {
      "cell_type": "code",
      "source": [
        "if __name__ == '__main__':\n",
        "    detecting_fake_news(var)"
      ],
      "metadata": {
        "id": "an1I4EnIzA8i"
      },
      "execution_count": null,
      "outputs": []
    }
  ]
}